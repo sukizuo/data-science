{
    "nbformat_minor": 1, 
    "cells": [
        {
            "source": "# Capstone Project - WEEK 01\n<h1 align=center><font size = 6>Segmenting and Clustering Affordable Housing Projects in San Francisco</font></h1>", 
            "cell_type": "markdown", 
            "metadata": {
                "collapsed": true
            }
        }, 
        {
            "source": "## Table of contents\n\n    \n<font size = 3>\n    \n1. [Introduction: Business Problem](#introduction)  \n  \n  \n2. [Data](#data)  \n    2.1 [Source of Data](#source)  \n    2.2 [Description of Data](#description)  \n  \n  \n  \n\n</font>\n", 
            "cell_type": "markdown", 
            "metadata": {}
        }, 
        {
            "source": "## 1. Introduction <a name=\"introduction\"></a>  \n  \n### Business Problem\n\nLots of people in San Francisco still can not afford their own houses. Hundreds of affordable housing pipeline projects were published by Mayor\u2019s Office of Housing and Community Development (MOHCD) and the Office of Community Investment and Infrastructure (OCII). The projects listed are in the process of development--or are anticipated to be developed--in partnership with non-profit or for-profit developers and financed through city funding agreements, ground leases, disposition and participation agreements and conduit bond financing. The Affordable Housing Pipeline also includes housing units produced by private developers through the Inclusionary Affordable Housing Program. \n\nIn this project, I will try to find a category of optimal affordable housing projects with better living facilities. This report will be targeted to individuals who want to have their own home but can not afford commodity housing in San Francisco. \n\nSince there are over hundreds of proiects in San Francisco, which one will be the right one. It is widely believed that a mature residential areas should be equipped with a range of living facilities, such as restaurants/gyms/markets/hospitals etc... So I am going to leverage the Foursquare location data to compare each project to provide reliable suggestions for individuals who need a place to live.\n\nData science powers we learnt these several weeks will be used to generate a few most promissing projects based on this criteria. I will cluster all the affordable housing programs into several catergories, advantages of each category will then be clearly expressed to help individuals make their first-step decisions.", 
            "cell_type": "markdown", 
            "metadata": {}
        }, 
        {
            "source": "## 2. Data <a name=\"data\"></a>  ", 
            "cell_type": "markdown", 
            "metadata": {}
        }, 
        {
            "source": "### 2.1  Source of Data <a name=\"source\"></a>  ", 
            "cell_type": "markdown", 
            "metadata": {}
        }, 
        {
            "source": "Based on the business problem, factors that will influence individuals to make the first-step decission are:\n* Number of existing facilities around each project\n* Type of existing facilities around each project\n\nFollowing data sources will be needed to generate the proper decission:\n* Basic information(project name/location/housing tenure ) of all the affordable housing programs, which can be get from **open data website of San Francisco GOV (https://data.sfgov.org/)**\n* Number of existing facilities and their type and location in every neighborhood will be obtained using **Foursquare API**", 
            "cell_type": "markdown", 
            "metadata": {}
        }, 
        {
            "source": "### 2.2  Description of Data <a name=\"description\"></a>  ", 
            "cell_type": "markdown", 
            "metadata": {}
        }, 
        {
            "source": "In this project, I am going to explore a category of optimal affordable housing projects in San Francisco, to help individuals make the first-step decision.  As it is widely believed that a mature residential areas should be equipped with a range of living facilities, such as restaurants/gyms/markets/hospitals etc.... Except Housing Price, living facilities is one of the most important factors that influence the finally decision.\n\nAs the the business problem defined, we should download the data and explore it.  \n1) My raw data (**basic data about 'affordable housing programs'**) almost has all the information I need for the analysis, such as **'project_name /street_name /planning_address /planning_neighborhood /housing_tenure /longitude /latitude'**, especially the location information, which indeed do me a great favour. I will firstly pre-processed the data, as the suggestion is for individuals who want to buy a house, so **'housing_tenure' should be 'Ownership'**.  \n\n2) Venues data (**number of existing facilities and their type and location** in every affordable housing project) will be obtained through **Foursquare API**.  ", 
            "cell_type": "markdown", 
            "metadata": {}
        }
    ], 
    "metadata": {
        "kernelspec": {
            "display_name": "Python 3.5", 
            "name": "python3", 
            "language": "python"
        }, 
        "language_info": {
            "mimetype": "text/x-python", 
            "nbconvert_exporter": "python", 
            "version": "3.5.5", 
            "name": "python", 
            "file_extension": ".py", 
            "pygments_lexer": "ipython3", 
            "codemirror_mode": {
                "version": 3, 
                "name": "ipython"
            }
        }
    }, 
    "nbformat": 4
}